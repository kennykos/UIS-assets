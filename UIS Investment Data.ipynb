{
 "cells": [
  {
   "cell_type": "code",
   "execution_count": 1,
   "id": "71df5300",
   "metadata": {},
   "outputs": [
    {
     "name": "stdout",
     "output_type": "stream",
     "text": [
      "The University of Illinois System (UIS) has $121,458,102.87 out of the $2,809,677,874.72 operating pool funds (4.32%) invested in 78 companies that profit from the extraction, transportation, or combustion of coal, petroleum, or natural gas. \n",
      "\n",
      "Here is a comprehensive list of these companies:  \n",
      " ['AEP TEX INC', 'ALABAMA PWR CO', 'ALLIANT ENERGY FIN LLC', 'AMEREN ILL CO', 'AMERICAN ELEC PWR CO', 'ATMOS ENERGY CO', 'BAKER HUGHES A GE CO', 'BERKSHIRE HATHAWAY ENERGY CO', 'BLACK HILLS CO', 'BP CAP MKTS', 'BPCE S A MEDIUM TERM NT', 'CANADIAN NAT RES LTD', 'CENTERPOINT ENERGY', 'CHEVRON', 'CONNECTICUT LIGHT & POWER CO', 'DOMINION ENERGY INC', 'DOMINION RES INC', 'DTE E', 'DUKE ENERGY', 'EAST OHIO GAS CO', 'EL PASO PIPELINE PART OP', 'ENBRIDGE INC', 'ENEL FIN INTL N V NT', 'ENERGY TRANSFER PARTNERS', 'ENGIE SA NT', 'ENTERGY ARK INC', 'ENTERGY CO', 'ENTERGY LOUISIANA LLC', 'ENTERGY TEX INC', 'ENTERPRISE PRODS OPER LLC', 'EVERSOURCE ENERGY', 'EXELON CO', 'EXXON MOBIL CO', 'FLORIDA PWR & LT CO', 'GETTY PAUL J TR', 'HARVEST OPERATIONS CO', 'INTERSTATE PWR & LT CO', 'JERSEY CENT PWR & LT CO', 'KANSAS CITY POWER & LT', 'MPLX LP BNDS', 'MPLX LP FLTG RT', 'NATL RURAL UTILS CO', 'NEXTERA ENERGY CA', 'NEXTERA ENERGY CAP HLDGS INC', 'NORTHEAST UTILS', 'NORTHERN STS PWR CO', 'NORTHWESTERN CO', 'NRG ENERGY INC', 'OCCIDENTAL PETE CO', 'OGE ENERGY CO', 'OKLAHOMA GAS & ELEC CO', 'ONCOR ELEC DELIVERY CO', 'ONE GAS INC', 'PACIFICORP', 'PEACHTREE CO', 'PHILLIPS 66', 'PIONEER NAT RES CO', 'PPL CAPITAL FUNDING INC', 'PPL ELEC UTILS CO', 'PUBLIC SVC CO', 'PUBLIC SVC ELEC GAS CO', 'PVPTL HARVEST OPERATIONS CO', 'SCHLUMBERGER', 'SHELL INTL FIN B V', 'SINOPEC GROUP OVERSEAS D', 'SOUTHERN CALIF EDISON CO', 'SOUTHERN CALIF GAS CO', 'SOUTHERN CO', 'SOUTHERN NAT GAS CO', 'SOUTHWESTERN PUBLIC SERVICE CO', 'STATOIL ASA FORMERLY STATOIL A', 'SUNOCO LOGISTICS PARTNERS OPER', 'TOTAL CAP INTL', 'VALERO ENERGY CO', 'VIRGINIA ELEC & POWER CO', 'WEC ENERGY GROUP INC', 'WILLIAMS PARTNERS L P', 'XCEL ENERGY INC'] \n",
      "\n",
      "More information on UIS investments can be found at: https://www.treasury.uillinois.edu/investments\n"
     ]
    }
   ],
   "source": [
    "%run investment_analysis.py"
   ]
  }
 ],
 "metadata": {
  "kernelspec": {
   "display_name": "Python 3 (ipykernel)",
   "language": "python",
   "name": "python3"
  },
  "language_info": {
   "codemirror_mode": {
    "name": "ipython",
    "version": 3
   },
   "file_extension": ".py",
   "mimetype": "text/x-python",
   "name": "python",
   "nbconvert_exporter": "python",
   "pygments_lexer": "ipython3",
   "version": "3.9.5"
  }
 },
 "nbformat": 4,
 "nbformat_minor": 5
}
