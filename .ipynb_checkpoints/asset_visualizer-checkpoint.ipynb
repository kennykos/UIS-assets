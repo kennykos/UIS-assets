{
 "cells": [
  {
   "cell_type": "code",
   "execution_count": 1,
   "id": "3de90c97",
   "metadata": {},
   "outputs": [],
   "source": [
    "import pandas as pd\n",
    "import sqlite3\n",
    "import matplotlib.pyplot as plt"
   ]
  },
  {
   "cell_type": "code",
   "execution_count": 2,
   "id": "db50fa8c",
   "metadata": {},
   "outputs": [
    {
     "data": {
      "image/png": "[encoded data removed]",
      "text/plain": [
       "<Figure size 432x288 with 1 Axes>"
      ]
     },
     "metadata": {},
     "output_type": "display_data"
    }
   ],
   "source": [
    "conn = sqlite3.connect('UIS_FY21_Investments.db')\n",
    "# read in the from the table for fossil fuel companies\n",
    "df = pd.read_sql('SELECT * FROM investments WHERE fossil_fuel == 1', conn)\n",
    "# get the totals of each asset class naive\n",
    "cbi = 0\n",
    "cmbsi = 0\n",
    "usabi = 0\n",
    "for asset in df['asset_class']:\n",
    "    if asset == 'Corporate Bonds':\n",
    "        cbi += 1\n",
    "    if asset == 'Commercial Mortgage Backed Securities':\n",
    "        cmbsi += 1\n",
    "    if asset == 'U.S. Agency Bonds':\n",
    "        usabi += 1 #THIS SHOULD BE 0? Comes from PVPTL HARVEST OPERATIONS CORP\n",
    "    pass\n",
    "plt.pie([cbi,cmbsi + usabi], labels=['Corporate Bonds', 'Other Bonds'])\n",
    "plt.title('Fossil Fuel Investment By asset Class')\n",
    "plt.savefig('Images/asset_class_pie_chart')"
   ]
  },
  {
   "cell_type": "code",
   "execution_count": 3,
   "id": "d4c582ef",
   "metadata": {},
   "outputs": [],
   "source": [
    "from database import get_ff_comps, update\n",
    "import numpy as np"
   ]
  },
  {
   "cell_type": "code",
   "execution_count": 4,
   "id": "76a6115d",
   "metadata": {},
   "outputs": [],
   "source": [
    "import re\n",
    "def cleanup(company):\n",
    "    suffix = [\" MKTS\", \" NT\", \" INC\", \"CHEVRON\", \"CENTERPOINT ENERGY\", \" CO\", \"DUKE ENERGY\", \"DTE E\", \"SCHLUMBERGER\", \" 66\"]\n",
    "    company = row[0]\n",
    "    company = company.replace(\"PVTPL \", \"\")\n",
    "    company = company.replace(\".\", \"\")\n",
    "\n",
    "    # remove everything after a number\n",
    "    m = re.search(r\"\\d\", company)\n",
    "    if m is not None and \"66\" not in company:\n",
    "        # print(company[m.start() : m.start() + 2])\n",
    "        company = company[:m.start()]\n",
    "\n",
    "    # remove everything after suffixes\n",
    "    if 1:\n",
    "        for s in suffix:\n",
    "            if s in company:\n",
    "                company = company[:company.index(s) + len(s)]\n",
    "    return company"
   ]
  },
  {
   "cell_type": "code",
   "execution_count": 26,
   "id": "34f330d9",
   "metadata": {},
   "outputs": [
    {
     "name": "stdout",
     "output_type": "stream",
     "text": [
      "             FOSSIL FUEL COMPANY        VALUE OF BONDS\n",
      "\n",
      "\n",
      "             FLORIDA PWR & LT CO         $8,475,837.83\n",
      "              CENTERPOINT ENERGY         $6,702,375.75\n",
      "                 ATMOS ENERGY CO         $6,582,328.06\n",
      "        SOUTHERN CALIF EDISON CO         $5,356,763.17\n",
      "                     DUKE ENERGY         $4,545,233.48\n",
      "         BPCE S A MEDIUM TERM NT         $4,369,401.62\n",
      "                         CHEVRON         $4,094,798.49\n",
      "                     ONE GAS INC         $4,058,777.68\n",
      "                     BP CAP MKTS         $3,991,647.31\n",
      "                           DTE E         $3,787,351.01\n",
      "             SHELL INTL FIN B V          $3,778,892.22\n",
      "             DOMINION ENERGY INC         $3,403,196.30\n",
      "                 TOTAL CAP INTL          $3,245,651.04\n",
      "                  EXXON MOBIL CO         $3,205,571.60\n",
      "                    SCHLUMBERGER         $3,029,476.93\n",
      "              EVERSOURCE ENERGY          $2,781,119.65\n",
      "              PIONEER NAT RES CO         $2,238,651.39\n",
      "                   AMEREN ILL CO         $2,168,595.86\n",
      "    NEXTERA ENERGY CAP HLDGS INC         $2,111,132.51\n",
      "            WEC ENERGY GROUP INC         $2,104,749.96\n",
      "                     ENGIE SA NT         $2,036,575.08\n",
      "              OCCIDENTAL PETE CO         $2,034,760.00\n",
      "      ENTERPRISE PRODS OPER LLC          $1,887,106.32\n",
      "               PPL ELEC UTILS CO         $1,885,599.95\n",
      "                     PHILLIPS 66         $1,785,804.35\n",
      "    BERKSHIRE HATHAWAY ENERGY CO         $1,512,314.38\n",
      "                       EXELON CO         $1,468,985.26\n",
      "            ENEL FIN INTL N V NT         $1,370,345.91\n",
      "          INTERSTATE PWR & LT CO         $1,271,393.96\n",
      "         JERSEY CENT PWR & LT CO         $1,238,470.33\n",
      "           SOUTHERN CALIF GAS CO         $1,215,145.80\n",
      "             NATL RURAL UTILS CO         $1,154,000.00\n",
      "                DOMINION RES INC         $1,139,079.81\n",
      "       ENERGY TRANSFER PARTNERS          $1,131,169.09\n",
      "                      ENTERGY CO         $1,011,307.98\n",
      "                    PEACHTREE CO           $985,170.65\n",
      "            BAKER HUGHES A GE CO           $973,157.29\n",
      "     PVPTL HARVEST OPERATIONS CO           $926,946.00\n",
      "                MPLX LP FLTG RT            $901,574.83\n",
      "         PPL CAPITAL FUNDING INC           $856,731.05\n",
      "                 ENTERGY TEX INC           $852,169.00\n",
      "       EL PASO PIPELINE PART OP            $780,000.00\n",
      "            AMERICAN ELEC PWR CO           $765,985.45\n",
      "           CANADIAN NAT RES LTD            $720,531.61\n",
      "                NORTHEAST UTILS            $666,918.28\n",
      "                VALERO ENERGY CO           $665,710.08\n",
      "  SUNOCO LOGISTICS PARTNERS OPER           $598,364.41\n",
      "           HARVEST OPERATIONS CO           $590,259.60\n",
      "                   OGE ENERGY CO           $590,158.12\n",
      "                     SOUTHERN CO           $498,579.63\n",
      "                  BLACK HILLS CO           $489,812.97\n",
      "                     AEP TEX INC           $486,741.45\n",
      "  SOUTHWESTERN PUBLIC SERVICE CO           $477,727.95\n",
      "                  ALABAMA PWR CO           $445,395.48\n",
      "          ONCOR ELEC DELIVERY CO           $427,565.38\n",
      "                   PUBLIC SVC CO           $425,057.22\n",
      "             NORTHERN STS PWR CO           $424,780.78\n",
      "                    ENBRIDGE INC           $408,742.73\n",
      "         ALLIANT ENERGY FIN LLC            $374,299.10\n",
      "                GETTY PAUL J TR            $363,631.25\n",
      "              NEXTERA ENERGY CA            $361,469.20\n",
      "          PUBLIC SVC ELEC GAS CO           $340,852.18\n",
      "        SINOPEC GROUP OVERSEAS D           $335,554.25\n",
      "                   MPLX LP BNDS            $318,876.11\n",
      "  STATOIL ASA FORMERLY STATOIL A           $231,342.32\n",
      "        VIRGINIA ELEC & POWER CO           $227,616.96\n",
      "                 ENTERGY ARK INC           $222,912.05\n",
      "          ENTERGY LOUISIANA LLC            $220,331.62\n",
      "                     PACIFICORP            $214,396.28\n",
      "             SOUTHERN NAT GAS CO           $190,178.60\n",
      "                 NORTHWESTERN CO           $167,795.29\n",
      "         KANSAS CITY POWER & LT            $164,670.91\n",
      "    CONNECTICUT LIGHT & POWER CO           $138,235.56\n",
      "                 XCEL ENERGY INC           $129,973.19\n",
      "                  NRG ENERGY INC           $106,522.51\n",
      "          OKLAHOMA GAS & ELEC CO           $100,003.21\n",
      "          WILLIAMS PARTNERS L P             $87,480.48\n",
      "                EAST OHIO GAS CO            $30,271.76\n"
     ]
    }
   ],
   "source": [
    "# need to update the database to run this function (Its open sourse so stop complaning and make a pull request)\n",
    "c = conn.cursor()\n",
    "update()\n",
    "d = {}\n",
    "for row in c.execute('SELECT account, market_value FROM investments WHERE fossil_fuel == 1'):\n",
    "    name = cleanup(row[0])\n",
    "    value = float(row[1].replace(',', ''))\n",
    "    if name in d:\n",
    "        d[name] += value\n",
    "    else:\n",
    "        d[name] = value\n",
    "\n",
    "        \n",
    "        \n",
    "# sorting the dictionary by values        \n",
    "d2= dict(sorted(d.items(),key= lambda x:-x[1]))\n",
    "\n",
    "\n",
    "\n",
    "# formating the output\n",
    "mkey = max(map(len, (map(str, d2.keys()))))\n",
    "mval = max(map(len, (map(str, d2.values()))))\n",
    "print('  {:>{}}    {:>{}}'.format('FOSSIL FUEL COMPANY', mkey, 'VALUE OF BONDS', mval))\n",
    "print('\\n')\n",
    "for key, value in d2.items():\n",
    "    print('  {:>{}}    {:>{}}'.format(key, mkey, '${0:,.2f}'.format(round(value, 2)), mval))\n"
   ]
  }
 ],
 "metadata": {
  "kernelspec": {
   "display_name": "Python 3 (ipykernel)",
   "language": "python",
   "name": "python3"
  },
  "language_info": {
   "codemirror_mode": {
    "name": "ipython",
    "version": 3
   },
   "file_extension": ".py",
   "mimetype": "text/x-python",
   "name": "python",
   "nbconvert_exporter": "python",
   "pygments_lexer": "ipython3",
   "version": "3.9.7"
  }
 },
 "nbformat": 4,
 "nbformat_minor": 5
}
